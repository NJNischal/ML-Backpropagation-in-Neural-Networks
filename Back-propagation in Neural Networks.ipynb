{
 "cells": [
  {
   "cell_type": "markdown",
   "metadata": {},
   "source": [
    "#### Import dependencies"
   ]
  },
  {
   "cell_type": "code",
   "execution_count": 2,
   "metadata": {},
   "outputs": [],
   "source": [
    "import numpy as np\n",
    "import sys\n",
    "import matplotlib.pyplot as plt\n",
    "import math"
   ]
  },
  {
   "cell_type": "markdown",
   "metadata": {},
   "source": [
    "### Problem 1\n",
    "#### Provided below are functions to create training data, train the algorithm and test the algorithm"
   ]
  },
  {
   "cell_type": "code",
   "execution_count": 9,
   "metadata": {},
   "outputs": [],
   "source": [
    "def simplest_training_data(n):\n",
    "\n",
    "    w = 3\n",
    "    b = 2\n",
    "    x = np.random.uniform(0,1,n)\n",
    "    y = 3*x+b+0.3*np.random.normal(0,1,n)\n",
    "    return (x,y)\n",
    "\n",
    "\n",
    "def simplest_training(n, k, eta):\n",
    "    # Generating random training data\n",
    "    x,y=simplest_training_data(n)\n",
    "    # initialising weight randomly from a Gaussian Distribution\n",
    "    w=np.random.normal(0,1,1)\n",
    "    # initialising bias to be 0\n",
    "    b=0\n",
    "    Loss_values=[]\n",
    "    epochs=[]\n",
    "    \n",
    "    # Iterating over k epochs\n",
    "    for i in range (k):\n",
    "        dL_dw=0\n",
    "        dL_db=0\n",
    "        Loss_function=0\n",
    "        # Iterating over training data points\n",
    "        for j in range (n):\n",
    "            a=w*x[j]+b\n",
    "            Loss_function+=(a-y[j])**2\n",
    "            dL_dw=dL_dw+2*x[j]*(w*x[j]+b-y[j])\n",
    "            dL_db=dL_db+2*(w*x[j]+b-y[j])\n",
    "        # Performing gradient descent\n",
    "        Loss_function=Loss_function/n\n",
    "        Loss_values.append(Loss_function)\n",
    "        epochs.append(i)\n",
    "        dL_dw=dL_dw/n\n",
    "        dL_db=dL_db/n\n",
    "        w=w-(eta)*(dL_dw)\n",
    "        b=b-(eta)*(dL_db)\n",
    "    theta=(w,b)\n",
    "    plt.plot(epochs,Loss_values)\n",
    "    return theta\n",
    "\n",
    "def simplest_testing(theta, x):\n",
    "    w=theta[0]\n",
    "    b=theta[1]\n",
    "    y=[]\n",
    "    for l in range(np.size(x)):\n",
    "        z=w*x[l]+b\n",
    "        y.append(z)\n",
    "    return y"
   ]
  },
  {
   "cell_type": "markdown",
   "metadata": {},
   "source": [
    "### Testing the algorithm"
   ]
  },
  {
   "cell_type": "code",
   "execution_count": 6,
   "metadata": {},
   "outputs": [
    {
     "name": "stdout",
     "output_type": "stream",
     "text": [
      "[array([2.08376253]), array([5.0448502]), array([8.00593787]), array([10.96702554]), array([13.92811321]), array([16.88920088]), array([19.85028855]), array([22.81137622]), array([25.77246389]), array([28.73355156])]\n"
     ]
    },
    {
     "data": {
      "image/png": "[encoded data removed]",
      "text/plain": [
       "<Figure size 432x288 with 1 Axes>"
      ]
     },
     "metadata": {
      "needs_background": "light"
     },
     "output_type": "display_data"
    }
   ],
   "source": [
    "theta=simplest_training(100,1000,0.02)\n",
    "x=[0,1,2,3,4,5,6,7,8,9]\n",
    "y=simplest_testing(theta,x)\n",
    "print(y)"
   ]
  },
  {
   "cell_type": "code",
   "execution_count": 8,
   "metadata": {},
   "outputs": [
    {
     "name": "stdout",
     "output_type": "stream",
     "text": [
      "[2, 5, 8, 11, 14, 17, 20, 23, 26, 29]\n"
     ]
    }
   ],
   "source": [
    "theta=(3,2)\n",
    "x=[0,1,2,3,4,5,6,7,8,9]\n",
    "y=simplest_testing(theta,x)\n",
    "print(y)"
   ]
  },
  {
   "cell_type": "code",
   "execution_count": 11,
   "metadata": {},
   "outputs": [
    {
     "name": "stdout",
     "output_type": "stream",
     "text": [
      "Percentage accuracy between the two set of values is:  [76.9427616]\n"
     ]
    },
    {
     "data": {
      "image/png": "[encoded data removed]",
      "text/plain": [
       "<Figure size 432x288 with 1 Axes>"
      ]
     },
     "metadata": {
      "needs_background": "light"
     },
     "output_type": "display_data"
    }
   ],
   "source": [
    "## Parameters for this test condition are: n=100, k=100, eta=0.02\n",
    "theta=simplest_training(100,100,0.02)\n",
    "x=[0,1,2,3,4,5,6,7,8,9]\n",
    "y1=simplest_testing(theta,x)\n",
    "theta_default=(3,2)\n",
    "x=[0,1,2,3,4,5,6,7,8,9]\n",
    "y2=simplest_testing(theta_default,x)\n",
    "percent=0\n",
    "for i in range(np.size(y)):\n",
    "    percent+=100-(abs(y1[i]-y2[i])/y2[i])*100\n",
    "percent=percent/(np.size(y))\n",
    "print(\"Percentage accuracy between the two set of values is: \",percent)"
   ]
  },
  {
   "cell_type": "code",
   "execution_count": 12,
   "metadata": {},
   "outputs": [
    {
     "name": "stdout",
     "output_type": "stream",
     "text": [
      "Plot between lines generated by algorithm(RED) and y=3x+2(GREEN)\n"
     ]
    },
    {
     "data": {
      "text/plain": [
       "[<matplotlib.lines.Line2D at 0x177ccf99f48>]"
      ]
     },
     "execution_count": 12,
     "metadata": {},
     "output_type": "execute_result"
    },
    {
     "data": {
      "image/png": "[encoded data removed]",
      "text/plain": [
       "<Figure size 432x288 with 1 Axes>"
      ]
     },
     "metadata": {
      "needs_background": "light"
     },
     "output_type": "display_data"
    }
   ],
   "source": [
    "print(\"Plot between lines generated by algorithm(RED) and y=3x+2(GREEN)\")\n",
    "plt.plot(x,y1,'r-')\n",
    "plt.plot(x,y2,'g-')"
   ]
  },
  {
   "cell_type": "code",
   "execution_count": 14,
   "metadata": {},
   "outputs": [
    {
     "name": "stdout",
     "output_type": "stream",
     "text": [
      "Percentage accuracy between the two set of values is:  [97.28590344]\n"
     ]
    },
    {
     "data": {
      "image/png": "[encoded data removed]",
      "text/plain": [
       "<Figure size 432x288 with 1 Axes>"
      ]
     },
     "metadata": {
      "needs_background": "light"
     },
     "output_type": "display_data"
    }
   ],
   "source": [
    "## Parameters for this test condition are: n=100, k=1000, eta=0.02\n",
    "theta=simplest_training(100,1000,0.02)\n",
    "x=[0,1,2,3,4,5,6,7,8,9]\n",
    "y1=simplest_testing(theta,x)\n",
    "theta_default=(3,2)\n",
    "x=[0,1,2,3,4,5,6,7,8,9]\n",
    "y2=simplest_testing(theta_default,x)\n",
    "percent=0\n",
    "for i in range(np.size(y)):\n",
    "    percent+=100-(abs(y1[i]-y2[i])/y2[i])*100\n",
    "percent=percent/(np.size(y))\n",
    "print(\"Percentage accuracy between the two set of values is: \",percent)"
   ]
  },
  {
   "cell_type": "code",
   "execution_count": 15,
   "metadata": {},
   "outputs": [
    {
     "name": "stdout",
     "output_type": "stream",
     "text": [
      "Plot between lines generated by algorithm(RED) and y=3x+2(GREEN)\n"
     ]
    },
    {
     "data": {
      "text/plain": [
       "[<matplotlib.lines.Line2D at 0x177cd03f0c8>]"
      ]
     },
     "execution_count": 15,
     "metadata": {},
     "output_type": "execute_result"
    },
    {
     "data": {
      "image/png": "[encoded data removed]",
      "text/plain": [
       "<Figure size 432x288 with 1 Axes>"
      ]
     },
     "metadata": {
      "needs_background": "light"
     },
     "output_type": "display_data"
    }
   ],
   "source": [
    "print(\"Plot between lines generated by algorithm(RED) and y=3x+2(GREEN)\")\n",
    "plt.plot(x,y1,'r-')\n",
    "plt.plot(x,y2,'g-')"
   ]
  },
  {
   "cell_type": "markdown",
   "metadata": {},
   "source": [
    "### Problem 2\n",
    "#### Provided below are functions to create training data, train the algorithm and test the algorithm"
   ]
  },
  {
   "cell_type": "code",
   "execution_count": 16,
   "metadata": {},
   "outputs": [],
   "source": [
    "\n",
    "def single_layer_training_data(trainset):\n",
    "    n = 10\n",
    "    if trainset == 1:\n",
    "        # Linearly separable\n",
    "        X = np.concatenate((np.random.normal((0,0),1,(n,2)), np.random.normal((10,10),1,(n,2))),axis=0)\n",
    "        y = np.concatenate((np.ones(n), np.zeros(n)),axis=0)\n",
    "    \n",
    "    elif trainset == 2:\n",
    "        # Not Linearly Separable\n",
    "        X = np.concatenate((np.random.normal((0,0),1,(n,2)), np.random.normal((10,10),1,(n,2)), np.random.normal((10,0),1,(n,2)), np.random.normal((0,10),1,(n,2))),axis=0)\n",
    "        y = np.concatenate((np.ones(2*n), np.zeros(2*n)), axis=0)\n",
    "    \n",
    "    else:\n",
    "        print(\"function single_layer_training_data undefined for input\", trainset)\n",
    "        sys.exit()\n",
    "\n",
    "    return (X,y) \n",
    "\n",
    "def single_layer_training(k, eta, trainset):\n",
    "    w=np.random.normal(0,1,2)\n",
    "    w1=w[0]\n",
    "    w2=w[1]\n",
    "    b=0\n",
    "    X,y=single_layer_training_data(trainset)\n",
    "    Loss_values=[]\n",
    "    epochs=[]\n",
    "    for i in range (k):\n",
    "        dL_dw1=0\n",
    "        dL_dw2=0\n",
    "        dL_db=0\n",
    "        Loss_function=0\n",
    "        for j in range (20):\n",
    "            sigmoid=1/(1+np.exp(-(w1*X[j][0]+w2*X[j][1]+b)))\n",
    "            Loss_function+=-(y[j]*math.log(sigmoid)+(1-y[j])*(math.log(1-sigmoid)))\n",
    "            dL_dw1+=X[j][0]*((sigmoid-(y[j])))\n",
    "            dL_dw2+=X[j][1]*((sigmoid-(y[j])))\n",
    "            dL_db=dL_db+(sigmoid-y[j])\n",
    "        Loss_function=Loss_function/20\n",
    "        Loss_values.append(Loss_function)\n",
    "        epochs.append(i)\n",
    "        dL_dw1=dL_dw1/20\n",
    "        dL_dw2=dL_dw2/20\n",
    "        dL_db=dL_db/20\n",
    "        w1=w1-(eta)*(dL_dw1)\n",
    "        w2=w2-(eta)*(dL_dw2)\n",
    "        b=b-(eta)*(dL_db)\n",
    "    theta=[w1,w2,b]\n",
    "    plt.plot(epochs,Loss_values)\n",
    "    return theta\n",
    "\n",
    "def single_layer_testing(theta, X):\n",
    "    y=[]\n",
    "    x1=[]\n",
    "    x2=[]\n",
    "    for i in range (np.size(X,0)):\n",
    "        w1=theta[0]\n",
    "        w2=theta[1]\n",
    "        b=theta[2]\n",
    "        t=sigmoid=1/(1+np.exp(-(w1*X[i][0]+w2*X[i][1]+b)))\n",
    "        y.append(t)\n",
    "        print(\"The point (\",X[i][0],\",\",X[i][1],\") has probability \",t)\n",
    "        x1.append(X[i][0])\n",
    "        x2.append(X[i][1])\n",
    "    \n",
    "    plt.plot(x1,x2,'.')\n",
    "    plt.plot(y,'-')\n",
    "    return y"
   ]
  },
  {
   "cell_type": "markdown",
   "metadata": {},
   "source": [
    "### Testing the algorithm"
   ]
  },
  {
   "cell_type": "code",
   "execution_count": 17,
   "metadata": {},
   "outputs": [
    {
     "data": {
      "image/png": "[encoded data removed]",
      "text/plain": [
       "<Figure size 432x288 with 1 Axes>"
      ]
     },
     "metadata": {
      "needs_background": "light"
     },
     "output_type": "display_data"
    }
   ],
   "source": [
    "theta=single_layer_training(100000,0.03,1)"
   ]
  },
  {
   "cell_type": "code",
   "execution_count": 18,
   "metadata": {},
   "outputs": [
    {
     "name": "stdout",
     "output_type": "stream",
     "text": [
      "The point ( -2.1590077493522233 , -0.43712063538827983 ) has probability  0.9999774794331435\n",
      "The point ( 0.5530508808945773 , 0.7772779514932303 ) has probability  0.998946406511702\n",
      "The point ( -0.7538390643200602 , 0.46904676975185405 ) has probability  0.9997953724289432\n",
      "The point ( -0.34152248162696497 , -0.15781911712422048 ) has probability  0.9998038099292973\n",
      "The point ( -1.8887083124309128 , 1.1286555405609389 ) has probability  0.999899128516153\n",
      "The point ( 1.6043732196142737 , -0.4799144062475398 ) has probability  0.9987685128146699\n",
      "The point ( -0.16100637681167257 , 1.3791673738417436 ) has probability  0.9992198609473554\n",
      "The point ( -0.5267183502203296 , 0.34469119084325084 ) has probability  0.9997628598314522\n",
      "The point ( -0.021938158950610197 , -0.32922077983737374 ) has probability  0.9997579020468349\n",
      "The point ( 0.3304994227044243 , 0.5155344395976708 ) has probability  0.9993217830959964\n",
      "The point ( 9.200761975534455 , 10.674206357407067 ) has probability  4.253910193334789e-05\n",
      "The point ( 9.839818887351626 , 9.154479135787147 ) has probability  6.934766736084844e-05\n",
      "The point ( 8.70233609136946 , 9.164323811786934 ) has probability  0.00023303542842483612\n",
      "The point ( 10.556047497762414 , 10.843585737651022 ) has probability  8.725132421004741e-06\n",
      "The point ( 9.845275081611506 , 9.46020978191319 ) has probability  5.4440376989335596e-05\n",
      "The point ( 8.599178854637874 , 9.471663462330591 ) has probability  0.00020528721605340738\n",
      "The point ( 9.331559997387698 , 10.581496300611606 ) has probability  3.971712006223675e-05\n",
      "The point ( 10.218461650515476 , 8.746522614533964 ) has probability  6.33230382190088e-05\n",
      "The point ( 11.218270257860707 , 9.750553471403801 ) has probability  9.978760197902933e-06\n",
      "The point ( 10.671610981364852 , 10.910448325912952 ) has probability  7.320110969002163e-06\n"
     ]
    },
    {
     "data": {
      "image/png": "[encoded data removed]",
      "text/plain": [
       "<Figure size 432x288 with 1 Axes>"
      ]
     },
     "metadata": {
      "needs_background": "light"
     },
     "output_type": "display_data"
    }
   ],
   "source": [
    "output=single_layer_testing(theta,single_layer_training_data(1)[0])"
   ]
  },
  {
   "cell_type": "markdown",
   "metadata": {},
   "source": [
    "### Problem 3\n",
    "#### Provided below are functions to create training data, train the algorithm and test the algorithm"
   ]
  },
  {
   "cell_type": "code",
   "execution_count": 19,
   "metadata": {},
   "outputs": [],
   "source": [
    "\n",
    "def pca_training_data(n, sigma):\n",
    "    m = 1\n",
    "    b = 1\n",
    "    x1 = np.random.uniform(0,10,n)\n",
    "    x2 = m*x1+b\n",
    "    X = np.array([x1,x2]).T\n",
    "    X += np.random.normal(0,sigma,X.shape)\n",
    "    return X\n",
    "\n",
    "def pca_training(k, eta, n, sigma):\n",
    "    x=pca_training_data(n,1)\n",
    "    w=np.random.normal(0,1,4)\n",
    "    w11=w[0]\n",
    "    w12=w[1]\n",
    "    w21=w[2]\n",
    "    w22=w[3]\n",
    "    b11=0\n",
    "    b21=0\n",
    "    b22=0\n",
    "    theta=[]\n",
    "    for i in range (k):\n",
    "        theta_prev=theta\n",
    "        dL_dw11=0\n",
    "        dL_dw12=0\n",
    "        dL_dw21=0\n",
    "        dL_dw22=0\n",
    "        dL_db11=0\n",
    "        dL_db21=0\n",
    "        dL_db22=0\n",
    "        for j in range (n):\n",
    "            h=w11*x[j][0]+w12*x[j][1]+b11\n",
    "            z1=w21*h+b21\n",
    "            z2=w22*h+b22\n",
    "            dL_dw11+=2*(x[j][0]*w21)*(z1-x[j][0])+2*(x[j][0]*w22)*(z2-x[j][1])\n",
    "            dL_dw12+=2*(x[j][1]*w21)*(z1-x[j][0])+2*(x[j][1]*w22)*(z2-x[j][1])\n",
    "            dL_db11+=2*w21*(z1-x[j][0])+2*w22*(z2-x[j][1])\n",
    "            dL_dw21=2*(z1-x[j][0])*h\n",
    "            dL_dw22=2*(z2-x[j][1])*h\n",
    "            dL_db21=2*(z1-x[j][0])\n",
    "            dL_db22=2*(z2-x[j][1])\n",
    "        dL_dw11=dL_dw11/n\n",
    "        dL_dw12=dL_dw12/n\n",
    "        dL_dw21=dL_dw21/n\n",
    "        dL_dw22=dL_dw22/n\n",
    "        dL_db11=dL_db11/n\n",
    "        dL_db21=dL_db21/n\n",
    "        dL_db22=dL_db22/n\n",
    "        w11=w11-(eta)*(dL_dw11)\n",
    "        w12=w12-(eta)*(dL_dw12)\n",
    "        w21=w21-(eta)*(dL_dw21)\n",
    "        w22=w22-(eta)*(dL_dw22)\n",
    "        b11=b11-(eta)*(dL_db11)\n",
    "        b21=b21-(eta)*(dL_db21)\n",
    "        b22=b22-(eta)*(dL_db22)\n",
    "        theta=[w11,w12,b11,w21,w22,b21,b22]\n",
    "        if theta==theta_prev:\n",
    "            print(\"Convergence at \",k,\" epoch.\")\n",
    "            break\n",
    "    return theta\n",
    "\n",
    "def pca_test(theta, X):\n",
    "    l=[]\n",
    "    w11=theta[0]\n",
    "    w12=theta[1]\n",
    "    b11=theta[2]\n",
    "    w21=theta[3]\n",
    "    w22=theta[4]\n",
    "    b21=theta[5]\n",
    "    b22=theta[6]\n",
    "    Z1=[]\n",
    "    Z2=[]\n",
    "    XX1=[]\n",
    "    XX2=[]\n",
    "    percent1=0\n",
    "    percent2=0\n",
    "    for i in range(np.size(X,0)):\n",
    "        h = w11*X[i][0] + w12*X[i][1] + b11\n",
    "        z1 = w21*h + b21\n",
    "        z2 = w22*h + b22\n",
    "        Z1.append(z1)\n",
    "        Z2.append(z2)\n",
    "        XX1.append(X[i][0])\n",
    "        XX2.append(X[i][1])\n",
    "        per1=100-((abs(X[i][0]-z1)/X[i][0])*100)\n",
    "        percent1+=100-((abs(X[i][0]-z1)/X[i][0])*100)\n",
    "        per2=100-((abs(X[i][1]-z2)/X[i][1])*100)\n",
    "        percent2+=100-((abs(X[i][1]-z2)/X[i][1])*100)\n",
    "        print(\" X1=\",X[i][0],\" z1= \",z1,\" accuracy=\",per1,\" & X2=\",X[i][1],\" z2= \",z2,\" accuracy= \",per2,\"%\")\n",
    "    percent1=percent1/(np.size(X,0))\n",
    "    percent2=percent2/(np.size(X,0))\n",
    "    print(\"The overall accuracy percentage of the algorithm for x1,z1=\",percent1,\" and for x2,z2=\",percent2)\n",
    "    # plt.plot(XX1,XX2,'bx')\n",
    "    # plt.plot(Z1,Z2,'ro')\n",
    "    Z=[Z1,Z2]\n",
    "    return np.transpose(Z)"
   ]
  },
  {
   "cell_type": "markdown",
   "metadata": {},
   "source": [
    "### Testing the algorithm\n"
   ]
  },
  {
   "cell_type": "code",
   "execution_count": 24,
   "metadata": {},
   "outputs": [
    {
     "name": "stdout",
     "output_type": "stream",
     "text": [
      " X1= 1  z1=  1.057852543941015  accuracy= 94.21474560589851  & X2= 2  z2=  2.1606002338849537  accuracy=  91.96998830575231 %\n",
      " X1= 4  z1=  2.547645568250897  accuracy= 63.69113920627243  & X2= 5  z2=  5.69151138051854  accuracy=  86.16977238962919 %\n",
      " X1= 10  z1=  2.588437480063028  accuracy= 25.884374800630283  & X2= 3  z2=  5.788190995578939  accuracy=  7.060300147368707 %\n",
      "The overall accuracy percentage of the algorithm for x1,z1= 61.26341987093374  and for x2,z2= 61.73335361425006\n"
     ]
    }
   ],
   "source": [
    "X=pca_training_data(10,0)\n",
    "t=pca_training(300, 0.01, 100, 0)\n",
    "a=pca_test(t, [[1,2], [4,5], [10, 3]])"
   ]
  },
  {
   "cell_type": "code",
   "execution_count": null,
   "metadata": {},
   "outputs": [],
   "source": []
  }
 ],
 "metadata": {
  "kernelspec": {
   "display_name": "Python 3",
   "language": "python",
   "name": "python3"
  },
  "language_info": {
   "codemirror_mode": {
    "name": "ipython",
    "version": 3
   },
   "file_extension": ".py",
   "mimetype": "text/x-python",
   "name": "python",
   "nbconvert_exporter": "python",
   "pygments_lexer": "ipython3",
   "version": "3.7.4"
  }
 },
 "nbformat": 4,
 "nbformat_minor": 2
}
